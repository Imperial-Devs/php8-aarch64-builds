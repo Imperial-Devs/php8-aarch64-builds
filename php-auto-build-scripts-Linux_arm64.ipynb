{
  "nbformat": 4,
  "nbformat_minor": 0,
  "metadata": {
    "colab": {
      "provenance": [],
      "authorship_tag": "ABX9TyNSzhX8sIYDzKxfu0hMv3Kr",
      "include_colab_link": true
    },
    "kernelspec": {
      "name": "python3",
      "display_name": "Python 3"
    },
    "language_info": {
      "name": "python"
    }
  },
  "cells": [
    {
      "cell_type": "markdown",
      "metadata": {
        "id": "view-in-github",
        "colab_type": "text"
      },
      "source": [
        "<a href=\"https://colab.research.google.com/github/TukangM/php-build-scripts-auto/blob/main/php-auto-build-scripts-Linux_arm64.ipynb\" target=\"_parent\"><img src=\"https://colab.research.google.com/assets/colab-badge.svg\" alt=\"Open In Colab\"/></a>"
      ]
    },
    {
      "cell_type": "markdown",
      "source": [
        "# php-auto-build-scripts\n",
        "Hi there this script will make php8 for Linux_arm64"
      ],
      "metadata": {
        "id": "X-jgnETW0UP_"
      }
    },
    {
      "cell_type": "markdown",
      "source": [
        "# Update repo and install dependencies"
      ],
      "metadata": {
        "id": "0mOS_FjXo4rT"
      }
    },
    {
      "cell_type": "code",
      "source": [
        "## Update repo and install dependencies\n",
        "!sudo apt update\n",
        "!sudo apt install make autoconf automake libtool m4 wget gzip bzip2 bison g++ git cmake pkg-config re2c libtool-bin zip unzip"
      ],
      "metadata": {
        "id": "qbZhqVkg0Xvn"
      },
      "execution_count": null,
      "outputs": []
    },
    {
      "cell_type": "markdown",
      "source": [
        "#cloning compiler musl-cross-make"
      ],
      "metadata": {
        "id": "3W2Az8Mto006"
      }
    },
    {
      "cell_type": "code",
      "source": [
        "#cloning compiler musl-cross-make\n",
        "!git clone https://github.com/TukangM/musl-cross-make\n",
        "%cd musl-cross-make"
      ],
      "metadata": {
        "id": "5u66jSWn7Ig4",
        "outputId": "20f0c6f5-48d6-4211-87c5-279becba0a8c",
        "colab": {
          "base_uri": "https://localhost:8080/"
        }
      },
      "execution_count": null,
      "outputs": [
        {
          "output_type": "stream",
          "name": "stdout",
          "text": [
            "Cloning into 'musl-cross-make'...\n",
            "remote: Enumerating objects: 1164, done.\u001b[K\n",
            "remote: Counting objects: 100% (50/50), done.\u001b[K\n",
            "remote: Compressing objects: 100% (33/33), done.\u001b[K\n",
            "remote: Total 1164 (delta 23), reused 26 (delta 17), pack-reused 1114\u001b[K\n",
            "Receiving objects: 100% (1164/1164), 311.75 KiB | 1.69 MiB/s, done.\n",
            "Resolving deltas: 100% (623/623), done.\n",
            "/content/musl-cross-make\n"
          ]
        }
      ]
    },
    {
      "cell_type": "markdown",
      "source": [
        "#compiling musl-cross-make for php-build-scripts-auto\n",
        "it takes 30mins- 1+hours (if you get 2 more processor cores. maybe the process will be fast if you are lucky) so you wait and you standby here"
      ],
      "metadata": {
        "id": "1SNaKQjKoZ03"
      }
    },
    {
      "cell_type": "code",
      "source": [
        "#compiling musl-cross-make for php-build-scripts-auto #it takes 30mins- 1hours (if you get 2 more processor cores. maybe the process will be fast if you are lucky) so you wait and you standby here\n",
        "!make install"
      ],
      "metadata": {
        "id": "Nkj7K7fQ7Yh2"
      },
      "execution_count": null,
      "outputs": []
    },
    {
      "cell_type": "markdown",
      "source": [
        "#clone repo from TukangM/php-build-scripts-auto (also can use from pmmp repo https://github.com/pmmp/php-build-scripts)\n",
        "# #%cd php-build-scripts\n",
        "  !! remove hashtag if you used pmmp repo!!\n",
        "# #%cd php-build-scripts\n",
        "   !! change php-build-scrips-auto to php-build-scripts if you use pmmp source\n"
      ],
      "metadata": {
        "id": "UyikQ5nhoGl3"
      }
    },
    {
      "cell_type": "code",
      "source": [
        "%cd ..\n",
        "#clone repo from TukangM/php-build-scripts-auto (also can use from pmmp repo https://github.com/pmmp/php-build-scripts)\n",
        "!git clone https://github.com/TukangM/php-build-scripts-auto\n",
        "#%cd php-build-scripts #!! remove hashtag if you used pmmp repo!!\n",
        "%cd php-build-scripts-auto\n",
        "#%cd php-build-scripts  #change php-build-scrips-auto to php-build-scripts if you use pmmp source\n",
        "\n"
      ],
      "metadata": {
        "id": "vqyq5zd68vNC"
      },
      "execution_count": null,
      "outputs": []
    },
    {
      "cell_type": "markdown",
      "source": [
        "#compile php8 and wait"
      ],
      "metadata": {
        "id": "GAexEy9yn8fK"
      }
    },
    {
      "cell_type": "code",
      "source": [
        "#compile php8 and wait\n",
        "!./compile.sh -t android-aarch64 -x -f"
      ],
      "metadata": {
        "id": "8BVKC6hh9tad",
        "outputId": "63350075-a48d-44e2-ac04-964daa39dfe9",
        "colab": {
          "base_uri": "https://localhost:8080/"
        }
      },
      "execution_count": null,
      "outputs": [
        {
          "output_type": "stream",
          "name": "stdout",
          "text": [
            "[PocketMine] PHP compiler for Linux, MacOS and Android\n",
            "[INFO] Checking dependencies\n",
            "[opt] Set target to android-aarch64\n",
            "[opt] Doing cross-compile\n",
            "[opt] Enabling abusive optimizations...\n",
            "[INFO] Cross-compiling for Android ARMv8 (aarch64)\n",
            "[warning] OPcache cannot be used on static builds; this may have a negative effect on performance\n",
            "[warning] Xdebug cannot be built in static mode\n",
            "[WARNING] Only 1 thread is used by default. Increase thread count using -j (e.g. -j 4) to compile faster.\n",
            "[PHP] downloading 8.0.26... done!\n",
            "[zlib] downloading 1.2.13... checking... compiling... installing... done!\n",
            "[GMP] downloading 6.2.1... checking... compiling... installing... done!\n",
            "[OpenSSL] downloading 1.1.1s... checking... compiling... installing... done!\n",
            "[cURL] downloading curl-7_86_0... checking... compiling... installing... done!\n",
            "[YAML] downloading 0.2.5... checking... compiling... installing... done!\n",
            "[LevelDB] downloading 1c7564468b41610da4f498430e795ca4de0931ff... checking... compiling... installing... done!\n",
            "[libxml] downloading 2.10.1... checking... compiling... installing... done!\n",
            "[libzip] downloading 1.9.2... checking... compiling... installing... done!\n",
            "[sqlite3] downloading 3400000... checking... compiling... installing... done!\n",
            "[libdeflate] downloading 0d1779a071bcc636e5156ddb7538434da7acad22... compiling... manually copying installation files for static build... done!\n",
            "[PHP] Downloading additional extensions...\n",
            "  pthreads: downloading 4.1.4... done!\n",
            "  yaml: downloading 2.2.2... done!\n",
            "  igbinary: downloading 3.2.12... done!\n",
            "  recursionguard: downloading 0.1.0... done!\n",
            "  crypto: downloading 0.3.2... done!\n",
            "  leveldb: downloading 317fdcd8415e1566fc2835ce2bdb8e19b890f9f3... done!\n",
            "  chunkutils2: downloading 0.3.3... done!\n",
            "  libdeflate: downloading 0.1.0... done!\n",
            "  morton: downloading 0.1.2... done!\n",
            "  xxhash: downloading 0.1.1... done!\n",
            "[PHP] enabling optimizations... checking... compiling... installing... generating php.ini... done!\n",
            "[INFO] Cleaning up... done!\n",
            "[PocketMine] You should start the server now using \"./start.sh\".\n",
            "[PocketMine] If it doesn't work, please send the \"install.log\" file to the Bug Tracker.\n"
          ]
        }
      ]
    },
    {
      "cell_type": "code",
      "source": [
        "#Zipping the reslut\n",
        "!ls\n",
        "!zip -r php-compiled-for-Linux_arm64.zip bin/"
      ],
      "metadata": {
        "id": "7VXHPf198A5n",
        "outputId": "18e6d26b-9350-4d57-c765-9a5673f1e532",
        "colab": {
          "base_uri": "https://localhost:8080/"
        }
      },
      "execution_count": null,
      "outputs": [
        {
          "output_type": "stream",
          "name": "stdout",
          "text": [
            "auto-script   install.log\t\t\t\ttests\n",
            "bin\t      php-auto-build-scripts.ipynb\t\twindows-compile-vs.bat\n",
            "compile.sh    php-auto-build-scripts-Linux_arm64.ipynb\n",
            "install_data  README.md\n",
            "  adding: bin/ (stored 0%)\n",
            "  adding: bin/php7/ (stored 0%)\n",
            "  adding: bin/php7/share/ (stored 0%)\n",
            "  adding: bin/php7/share/gtk-doc/ (stored 0%)\n",
            "  adding: bin/php7/share/gtk-doc/html/ (stored 0%)\n",
            "  adding: bin/php7/share/gtk-doc/html/libxml2/ (stored 0%)\n",
            "  adding: bin/php7/share/gtk-doc/html/libxml2/libxml2-xmlexports.html (deflated 72%)\n",
            "  adding: bin/php7/share/gtk-doc/html/libxml2/libxml2-xmlunicode.html (deflated 94%)\n",
            "  adding: bin/php7/share/gtk-doc/html/libxml2/libxml2-parserInternals.html (deflated 86%)\n",
            "  adding: bin/php7/share/gtk-doc/html/libxml2/up.png (stored 0%)\n",
            "  adding: bin/php7/share/gtk-doc/html/libxml2/libxml2-uri.html (deflated 82%)\n",
            "  adding: bin/php7/share/gtk-doc/html/libxml2/libxml2-HTMLtree.html (deflated 88%)\n",
            "  adding: bin/php7/share/gtk-doc/html/libxml2/libxml2-nanoftp.html (deflated 85%)\n",
            "  adding: bin/php7/share/gtk-doc/html/libxml2/style.css (deflated 58%)\n",
            "  adding: bin/php7/share/gtk-doc/html/libxml2/left.png (stored 0%)\n",
            "  adding: bin/php7/share/gtk-doc/html/libxml2/libxml2-xmlsave.html (deflated 85%)\n",
            "  adding: bin/php7/share/gtk-doc/html/libxml2/libxml2-xmlmodule.html (deflated 76%)\n",
            "  adding: bin/php7/share/gtk-doc/html/libxml2/libxml2-xlink.html (deflated 86%)\n",
            "  adding: bin/php7/share/gtk-doc/html/libxml2/libxml2-xpointer.html (deflated 88%)\n",
            "  adding: bin/php7/share/gtk-doc/html/libxml2/home.png (stored 0%)\n",
            "  adding: bin/php7/share/gtk-doc/html/libxml2/libxml2-schemasInternals.html (deflated 88%)\n",
            "  adding: bin/php7/share/gtk-doc/html/libxml2/libxml2-valid.html (deflated 91%)\n",
            "  adding: bin/php7/share/gtk-doc/html/libxml2/libxml2-xpath.html (deflated 87%)\n",
            "  adding: bin/php7/share/gtk-doc/html/libxml2/libxml2-parser.html (deflated 89%)\n",
            "  adding: bin/php7/share/gtk-doc/html/libxml2/libxml2-xmlversion.html (deflated 84%)\n",
            "  adding: bin/php7/share/gtk-doc/html/libxml2/libxml2-schematron.html (deflated 85%)\n",
            "  adding: bin/php7/share/gtk-doc/html/libxml2/libxml2-xmlerror.html (deflated 82%)\n",
            "  adding: bin/php7/share/gtk-doc/html/libxml2/libxml2-pattern.html (deflated 85%)\n",
            "  adding: bin/php7/share/gtk-doc/html/libxml2/libxml2-hash.html (deflated 92%)\n",
            "  adding: bin/php7/share/gtk-doc/html/libxml2/libxml2-encoding.html (deflated 85%)\n",
            "  adding: bin/php7/share/gtk-doc/html/libxml2/libxml2-xmlschemastypes.html (deflated 89%)\n",
            "  adding: bin/php7/share/gtk-doc/html/libxml2/libxml2-xmlschemas.html (deflated 88%)\n",
            "  adding: bin/php7/share/gtk-doc/html/libxml2/libxml2-tree.html (deflated 89%)\n",
            "  adding: bin/php7/share/gtk-doc/html/libxml2/general.html (deflated 69%)\n",
            "  adding: bin/php7/share/gtk-doc/html/libxml2/libxml2.devhelp2 (deflated 91%)\n",
            "  adding: bin/php7/share/gtk-doc/html/libxml2/libxml2-xmlreader.html (deflated 91%)\n",
            "  adding: bin/php7/share/gtk-doc/html/libxml2/libxml2-nanohttp.html (deflated 85%)\n",
            "  adding: bin/php7/share/gtk-doc/html/libxml2/libxml2-SAX.html (deflated 89%)\n",
            "  adding: bin/php7/share/gtk-doc/html/libxml2/libxml2-xinclude.html (deflated 86%)\n",
            "  adding: bin/php7/share/gtk-doc/html/libxml2/libxml2-xmlwriter.html (deflated 95%)\n",
            "  adding: bin/php7/share/gtk-doc/html/libxml2/libxml2-threads.html (deflated 81%)\n",
            "  adding: bin/php7/share/gtk-doc/html/libxml2/libxml2-globals.html (deflated 89%)\n",
            "  adding: bin/php7/share/gtk-doc/html/libxml2/libxml2-c14n.html (deflated 84%)\n",
            "  adding: bin/php7/share/gtk-doc/html/libxml2/libxml2-xmlstring.html (deflated 89%)\n",
            "  adding: bin/php7/share/gtk-doc/html/libxml2/libxml2-catalog.html (deflated 88%)\n",
            "  adding: bin/php7/share/gtk-doc/html/libxml2/libxml2-list.html (deflated 88%)\n",
            "  adding: bin/php7/share/gtk-doc/html/libxml2/libxml2-xmlregexp.html (deflated 88%)\n",
            "  adding: bin/php7/share/gtk-doc/html/libxml2/libxml2-xmlmemory.html (deflated 87%)\n",
            "  adding: bin/php7/share/gtk-doc/html/libxml2/libxml2-SAX2.html (deflated 89%)\n",
            "  adding: bin/php7/share/gtk-doc/html/libxml2/index.html (deflated 61%)\n",
            "  adding: bin/php7/share/gtk-doc/html/libxml2/libxml2-HTMLparser.html (deflated 88%)\n",
            "  adding: bin/php7/share/gtk-doc/html/libxml2/libxml2-xmlIO.html (deflated 89%)\n",
            "  adding: bin/php7/share/gtk-doc/html/libxml2/libxml2-entities.html (deflated 87%)\n",
            "  adding: bin/php7/share/gtk-doc/html/libxml2/libxml2-relaxng.html (deflated 88%)\n",
            "  adding: bin/php7/share/gtk-doc/html/libxml2/libxml2-xpathInternals.html (deflated 91%)\n",
            "  adding: bin/php7/share/gtk-doc/html/libxml2/libxml2-xmlautomata.html (deflated 92%)\n",
            "  adding: bin/php7/share/gtk-doc/html/libxml2/libxml2-debugXML.html (deflated 89%)\n",
            "  adding: bin/php7/share/gtk-doc/html/libxml2/libxml2-chvalid.html (deflated 88%)\n",
            "  adding: bin/php7/share/gtk-doc/html/libxml2/libxml2-dict.html (deflated 83%)\n",
            "  adding: bin/php7/share/gtk-doc/html/libxml2/right.png (stored 0%)\n",
            "  adding: bin/php7/share/info/ (stored 0%)\n",
            "  adding: bin/php7/share/info/gmp.info-1 (deflated 72%)\n",
            "  adding: bin/php7/share/info/gmp.info (deflated 60%)\n",
            "  adding: bin/php7/share/info/gmp.info-2 (deflated 77%)\n",
            "  adding: bin/php7/share/doc/ (stored 0%)\n",
            "  adding: bin/php7/share/doc/libxml2/ (stored 0%)\n",
            "  adding: bin/php7/share/doc/libxml2/xmllint.html (deflated 79%)\n",
            "  adding: bin/php7/share/doc/libxml2/tutorial/ (stored 0%)\n",
            "  adding: bin/php7/share/doc/libxml2/tutorial/includegetattribute.c (deflated 55%)\n",
            "  adding: bin/php7/share/doc/libxml2/tutorial/apf.html (deflated 62%)\n",
            "  adding: bin/php7/share/doc/libxml2/tutorial/ar01s07.html (deflated 62%)\n",
            "  adding: bin/php7/share/doc/libxml2/tutorial/includeconvert.c (deflated 63%)\n",
            "  adding: bin/php7/share/doc/libxml2/tutorial/ape.html (deflated 62%)\n",
            "  adding: bin/php7/share/doc/libxml2/tutorial/images/ (stored 0%)\n",
            "  adding: bin/php7/share/doc/libxml2/tutorial/images/note.png (deflated 0%)\n",
            "  adding: bin/php7/share/doc/libxml2/tutorial/images/up.png (deflated 65%)\n",
            "  adding: bin/php7/share/doc/libxml2/tutorial/images/next.png (deflated 61%)\n",
            "  adding: bin/php7/share/doc/libxml2/tutorial/images/home.png (deflated 61%)\n",
            "  adding: bin/php7/share/doc/libxml2/tutorial/images/toc-blank.png (deflated 11%)\n",
            "  adding: bin/php7/share/doc/libxml2/tutorial/images/blank.png (deflated 67%)\n",
            "  adding: bin/php7/share/doc/libxml2/tutorial/images/caution.png (deflated 47%)\n",
            "  adding: bin/php7/share/doc/libxml2/tutorial/images/draft.png (deflated 4%)\n",
            "  adding: bin/php7/share/doc/libxml2/tutorial/images/important.png (stored 0%)\n",
            "  adding: bin/php7/share/doc/libxml2/tutorial/images/prev.png (deflated 62%)\n",
            "  adding: bin/php7/share/doc/libxml2/tutorial/images/tip.png (deflated 1%)\n",
            "  adding: bin/php7/share/doc/libxml2/tutorial/images/callouts/ (stored 0%)\n",
            "  adding: bin/php7/share/doc/libxml2/tutorial/images/callouts/3.png (deflated 3%)\n",
            "  adding: bin/php7/share/doc/libxml2/tutorial/images/callouts/9.png (deflated 3%)\n",
            "  adding: bin/php7/share/doc/libxml2/tutorial/images/callouts/1.png (deflated 4%)\n",
            "  adding: bin/php7/share/doc/libxml2/tutorial/images/callouts/2.png (deflated 3%)\n",
            "  adding: bin/php7/share/doc/libxml2/tutorial/images/callouts/4.png (deflated 3%)\n",
            "  adding: bin/php7/share/doc/libxml2/tutorial/images/callouts/7.png (deflated 3%)\n",
            "  adding: bin/php7/share/doc/libxml2/tutorial/images/callouts/10.png (deflated 3%)\n",
            "  adding: bin/php7/share/doc/libxml2/tutorial/images/callouts/8.png (deflated 3%)\n",
            "  adding: bin/php7/share/doc/libxml2/tutorial/images/callouts/6.png (deflated 3%)\n",
            "  adding: bin/php7/share/doc/libxml2/tutorial/images/callouts/5.png (deflated 3%)\n",
            "  adding: bin/php7/share/doc/libxml2/tutorial/images/toc-plus.png (deflated 5%)\n",
            "  adding: bin/php7/share/doc/libxml2/tutorial/images/warning.png (deflated 47%)\n",
            "  adding: bin/php7/share/doc/libxml2/tutorial/images/toc-minus.png (deflated 6%)\n",
            "  adding: bin/php7/share/doc/libxml2/tutorial/includexpath.c (deflated 59%)\n",
            "  adding: bin/php7/share/doc/libxml2/tutorial/apg.html (deflated 62%)\n",
            "  adding: bin/php7/share/doc/libxml2/tutorial/ix01.html (deflated 69%)\n",
            "  adding: bin/php7/share/doc/libxml2/tutorial/ar01s02.html (deflated 67%)\n",
            "  adding: bin/php7/share/doc/libxml2/tutorial/apb.html (deflated 63%)\n",
            "  adding: bin/php7/share/doc/libxml2/tutorial/includeaddkeyword.c (deflated 57%)\n",
            "  adding: bin/php7/share/doc/libxml2/tutorial/apa.html (deflated 62%)\n",
            "  adding: bin/php7/share/doc/libxml2/tutorial/ar01s04.html (deflated 69%)\n",
            "  adding: bin/php7/share/doc/libxml2/tutorial/ar01s06.html (deflated 60%)\n",
            "  adding: bin/php7/share/doc/libxml2/tutorial/aph.html (deflated 65%)\n",
            "  adding: bin/php7/share/doc/libxml2/tutorial/api.html (deflated 59%)\n",
            "  adding: bin/php7/share/doc/libxml2/tutorial/ar01s08.html (deflated 61%)\n",
            "  adding: bin/php7/share/doc/libxml2/tutorial/ar01s05.html (deflated 71%)\n",
            "  adding: bin/php7/share/doc/libxml2/tutorial/index.html (deflated 69%)\n",
            "  adding: bin/php7/share/doc/libxml2/tutorial/includeaddattribute.c (deflated 54%)\n",
            "  adding: bin/php7/share/doc/libxml2/tutorial/apd.html (deflated 63%)\n",
            "  adding: bin/php7/share/doc/libxml2/tutorial/apc.html (deflated 63%)\n",
            "  adding: bin/php7/share/doc/libxml2/tutorial/ar01s03.html (deflated 68%)\n",
            "  adding: bin/php7/share/doc/libxml2/tutorial/includekeyword.c (deflated 59%)\n",
            "  adding: bin/php7/share/doc/libxml2/tutorial/ar01s09.html (deflated 68%)\n",
            "  adding: bin/php7/share/doc/libxml2/xmlcatalog.html (deflated 78%)\n",
            "  adding: bin/php7/share/doc/libxml2/examples/ (stored 0%)\n",
            "  adding: bin/php7/share/doc/libxml2/examples/reader4.c (deflated 60%)\n",
            "  adding: bin/php7/share/doc/libxml2/examples/reader1.c (deflated 58%)\n",
            "  adding: bin/php7/share/doc/libxml2/examples/xpath2.c (deflated 62%)\n",
            "  adding: bin/php7/share/doc/libxml2/examples/reader2.c (deflated 58%)\n",
            "  adding: bin/php7/share/doc/libxml2/examples/testWriter.c (deflated 91%)\n",
            "  adding: bin/php7/share/doc/libxml2/examples/parse3.c (deflated 52%)\n",
            "  adding: bin/php7/share/doc/libxml2/examples/tree1.c (deflated 53%)\n",
            "  adding: bin/php7/share/doc/libxml2/examples/io2.c (deflated 49%)\n",
            "  adding: bin/php7/share/doc/libxml2/examples/reader3.c (deflated 59%)\n",
            "  adding: bin/php7/share/doc/libxml2/examples/xpath1.c (deflated 68%)\n",
            "  adding: bin/php7/share/doc/libxml2/examples/tree2.c (deflated 60%)\n",
            "  adding: bin/php7/share/doc/libxml2/examples/xmllint.c (deflated 81%)\n",
            "  adding: bin/php7/share/doc/libxml2/examples/index.html (deflated 89%)\n",
            "  adding: bin/php7/share/doc/libxml2/examples/parse1.c (deflated 50%)\n",
            "  adding: bin/php7/share/doc/libxml2/examples/parse2.c (deflated 57%)\n",
            "  adding: bin/php7/share/doc/libxml2/examples/io1.c (deflated 60%)\n",
            "  adding: bin/php7/share/doc/libxml2/examples/parse4.c (deflated 60%)\n",
            "  adding: bin/php7/share/aclocal/ (stored 0%)\n",
            "  adding: bin/php7/share/aclocal/libcurl.m4 (deflated 69%)\n",
            "  adding: bin/php7/share/aclocal/libxml.m4 (deflated 68%)\n",
            "  adding: bin/php7/bin/ (stored 0%)\n",
            "  adding: bin/php7/bin/xmlcatalog (deflated 52%)\n",
            "  adding: bin/php7/bin/php-config (deflated 68%)\n",
            "  adding: bin/php7/bin/php.ini (deflated 32%)\n",
            "  adding: bin/php7/bin/php (deflated 67%)\n",
            "  adding: bin/php7/bin/xml2-config (deflated 59%)\n",
            "  adding: bin/php7/bin/sqlite3 (deflated 45%)\n",
            "  adding: bin/php7/bin/xmllint (deflated 52%)\n",
            "  adding: bin/php7/bin/phpize (deflated 66%)\n",
            "  adding: bin/php7/lib/ (stored 0%)\n",
            "  adding: bin/php7/lib/cmake/ (stored 0%)\n",
            "  adding: bin/php7/lib/cmake/leveldb/ (stored 0%)\n",
            "  adding: bin/php7/lib/cmake/leveldb/leveldbTargets-release.cmake (deflated 58%)\n",
            "  adding: bin/php7/lib/cmake/leveldb/leveldbConfigVersion.cmake (deflated 68%)\n",
            "  adding: bin/php7/lib/cmake/leveldb/leveldbConfig.cmake (deflated 49%)\n",
            "  adding: bin/php7/lib/cmake/leveldb/leveldbTargets.cmake (deflated 63%)\n",
            "  adding: bin/php7/lib/cmake/libxml2/ (stored 0%)\n",
            "  adding: bin/php7/lib/cmake/libxml2/libxml2-config.cmake (deflated 73%)\n",
            "  adding: bin/php7/lib/cmake/libzip/ (stored 0%)\n",
            "  adding: bin/php7/lib/cmake/libzip/libzip-config-version.cmake (deflated 64%)\n",
            "  adding: bin/php7/lib/cmake/libzip/libzip-config.cmake (deflated 50%)\n",
            "  adding: bin/php7/lib/cmake/libzip/libzip-targets-noconfig.cmake (deflated 56%)\n",
            "  adding: bin/php7/lib/cmake/libzip/libzip-targets.cmake (deflated 63%)\n",
            "  adding: bin/php7/lib/php/ (stored 0%)\n",
            "  adding: bin/php7/lib/php/build/ (stored 0%)\n",
            "  adding: bin/php7/lib/php/build/config.sub (deflated 69%)\n",
            "  adding: bin/php7/lib/php/build/libtool.m4 (deflated 77%)\n",
            "  adding: bin/php7/lib/php/build/ax_gcc_func_attribute.m4 (deflated 78%)\n",
            "  adding: bin/php7/lib/php/build/ax_check_compile_flag.m4 (deflated 53%)\n",
            "  adding: bin/php7/lib/php/build/gen_stub.php (deflated 81%)\n",
            "  adding: bin/php7/lib/php/build/ltmain.sh (deflated 75%)\n",
            "  adding: bin/php7/lib/php/build/Makefile.global (deflated 67%)\n",
            "  adding: bin/php7/lib/php/build/shtool (deflated 78%)\n",
            "  adding: bin/php7/lib/php/build/config.guess (deflated 70%)\n",
            "  adding: bin/php7/lib/php/build/php.m4 (deflated 75%)\n",
            "  adding: bin/php7/lib/php/build/run-tests.php (deflated 77%)\n",
            "  adding: bin/php7/lib/php/build/phpize.m4 (deflated 62%)\n",
            "  adding: bin/php7/lib/php/build/pkg.m4 (deflated 66%)\n",
            "  adding: bin/php7/lib/php/build/php_cxx_compile_stdcxx.m4 (deflated 71%)\n",
            "  adding: bin/php7/lib/engines-1.1/ (stored 0%)\n",
            "  adding: bin/php7/lib/pkgconfig/ (stored 0%)\n",
            "  adding: bin/php7/lib/pkgconfig/zlib.pc (deflated 38%)\n",
            "  adding: bin/php7/lib/pkgconfig/libzip.pc (deflated 37%)\n",
            "  adding: bin/php7/lib/pkgconfig/libcurl.pc (deflated 50%)\n",
            "  adding: bin/php7/lib/pkgconfig/libcrypto.pc (deflated 37%)\n",
            "  adding: bin/php7/lib/pkgconfig/yaml-0.1.pc (deflated 31%)\n",
            "  adding: bin/php7/lib/pkgconfig/libxml-2.0.pc (deflated 39%)\n",
            "  adding: bin/php7/lib/pkgconfig/libssl.pc (deflated 31%)\n",
            "  adding: bin/php7/lib/pkgconfig/openssl.pc (deflated 31%)\n",
            "  adding: bin/php7/lib/pkgconfig/gmp.pc (deflated 30%)\n",
            "  adding: bin/php7/lib/pkgconfig/sqlite3.pc (deflated 31%)\n"
          ]
        }
      ]
    },
    {
      "cell_type": "markdown",
      "source": [
        "#Download the Result (Dont use firefox. use Chromium based browser like Google Chrome, MS Egde, Opera, Brave)"
      ],
      "metadata": {
        "id": "HNuzYSgqnlTC"
      }
    },
    {
      "cell_type": "code",
      "source": [
        "#Download the result\n",
        "from google.colab import files\n",
        "files.download('php-compiled-for-Linux_arm64.zip')"
      ],
      "metadata": {
        "id": "i5KBhkos77nh",
        "outputId": "b0701a6a-ab7a-41c6-dd71-fc8fff434cba",
        "colab": {
          "base_uri": "https://localhost:8080/",
          "height": 17
        }
      },
      "execution_count": null,
      "outputs": [
        {
          "output_type": "display_data",
          "data": {
            "text/plain": [
              "<IPython.core.display.Javascript object>"
            ],
            "application/javascript": [
              "\n",
              "    async function download(id, filename, size) {\n",
              "      if (!google.colab.kernel.accessAllowed) {\n",
              "        return;\n",
              "      }\n",
              "      const div = document.createElement('div');\n",
              "      const label = document.createElement('label');\n",
              "      label.textContent = `Downloading \"${filename}\": `;\n",
              "      div.appendChild(label);\n",
              "      const progress = document.createElement('progress');\n",
              "      progress.max = size;\n",
              "      div.appendChild(progress);\n",
              "      document.body.appendChild(div);\n",
              "\n",
              "      const buffers = [];\n",
              "      let downloaded = 0;\n",
              "\n",
              "      const channel = await google.colab.kernel.comms.open(id);\n",
              "      // Send a message to notify the kernel that we're ready.\n",
              "      channel.send({})\n",
              "\n",
              "      for await (const message of channel.messages) {\n",
              "        // Send a message to notify the kernel that we're ready.\n",
              "        channel.send({})\n",
              "        if (message.buffers) {\n",
              "          for (const buffer of message.buffers) {\n",
              "            buffers.push(buffer);\n",
              "            downloaded += buffer.byteLength;\n",
              "            progress.value = downloaded;\n",
              "          }\n",
              "        }\n",
              "      }\n",
              "      const blob = new Blob(buffers, {type: 'application/binary'});\n",
              "      const a = document.createElement('a');\n",
              "      a.href = window.URL.createObjectURL(blob);\n",
              "      a.download = filename;\n",
              "      div.appendChild(a);\n",
              "      a.click();\n",
              "      div.remove();\n",
              "    }\n",
              "  "
            ]
          },
          "metadata": {}
        },
        {
          "output_type": "display_data",
          "data": {
            "text/plain": [
              "<IPython.core.display.Javascript object>"
            ],
            "application/javascript": [
              "download(\"download_882544f3-055d-4090-8cc7-d803b085d37e\", \"php-compiled-for-Linux_arm64.zip\", 14429267)"
            ]
          },
          "metadata": {}
        }
      ]
    },
    {
      "cell_type": "markdown",
      "source": [
        "downlaod php-compiled-for-Linux_arm64.zip with transfer.sh"
      ],
      "metadata": {
        "id": "LttUsAwXLg6W"
      }
    },
    {
      "cell_type": "code",
      "source": [
        "!curl --upload-file ./php-compiled-for-Linux_arm64.zip https://transfer.sh/php-compiled-for-Linux_arm64.zip"
      ],
      "metadata": {
        "id": "PiA0HiFALP32",
        "outputId": "047a47d8-ace6-4bd8-e4bd-90054ce25331",
        "colab": {
          "base_uri": "https://localhost:8080/"
        }
      },
      "execution_count": null,
      "outputs": [
        {
          "output_type": "stream",
          "name": "stdout",
          "text": [
            "https://transfer.sh/4M0LOl/php-compiled-for-Linux_arm64.zip"
          ]
        }
      ]
    },
    {
      "cell_type": "markdown",
      "source": [
        "#Voila!!\n",
        "you builded php8 for arm64!!"
      ],
      "metadata": {
        "id": "Iy9UVKMU_1cC"
      }
    }
  ]
}